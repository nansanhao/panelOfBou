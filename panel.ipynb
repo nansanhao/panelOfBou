{
 "cells": [
  {
   "cell_type": "code",
   "execution_count": 52,
   "id": "7a10f8e9",
   "metadata": {},
   "outputs": [
    {
     "data": {},
     "metadata": {},
     "output_type": "display_data"
    },
    {
     "data": {},
     "metadata": {},
     "output_type": "display_data"
    },
    {
     "data": {
      "application/vnd.holoviews_exec.v0+json": "",
      "text/html": [
       "<div id='44797'>\n",
       "\n",
       "\n",
       "\n",
       "\n",
       "\n",
       "  <div class=\"bk-root\" id=\"feeadf91-07a6-46d0-995b-d15ca8a21c06\" data-root-id=\"44797\"></div>\n",
       "</div>\n",
       "<script type=\"application/javascript\">(function(root) {\n",
       "  function embed_document(root) {\n",
       "    var docs_json = {\"ebe68074-1685-45ef-971d-acc96a0e430b\":{\"defs\":[{\"extends\":null,\"module\":null,\"name\":\"ReactiveHTML1\",\"overrides\":[],\"properties\":[]},{\"extends\":null,\"module\":null,\"name\":\"FlexBox1\",\"overrides\":[],\"properties\":[{\"default\":\"flex-start\",\"kind\":null,\"name\":\"align_content\"},{\"default\":\"flex-start\",\"kind\":null,\"name\":\"align_items\"},{\"default\":\"row\",\"kind\":null,\"name\":\"flex_direction\"},{\"default\":\"wrap\",\"kind\":null,\"name\":\"flex_wrap\"},{\"default\":\"flex-start\",\"kind\":null,\"name\":\"justify_content\"}]},{\"extends\":null,\"module\":null,\"name\":\"TemplateActions1\",\"overrides\":[],\"properties\":[{\"default\":0,\"kind\":null,\"name\":\"open_modal\"},{\"default\":0,\"kind\":null,\"name\":\"close_modal\"}]},{\"extends\":null,\"module\":null,\"name\":\"MaterialTemplateActions1\",\"overrides\":[],\"properties\":[{\"default\":0,\"kind\":null,\"name\":\"open_modal\"},{\"default\":0,\"kind\":null,\"name\":\"close_modal\"}]}],\"roots\":{\"references\":[{\"attributes\":{},\"id\":\"44823\",\"type\":\"BasicTicker\"},{\"attributes\":{},\"id\":\"45141\",\"type\":\"UnionRenderers\"},{\"attributes\":{\"days\":[1,2,3,4,5,6,7,8,9,10,11,12,13,14,15,16,17,18,19,20,21,22,23,24,25,26,27,28,29,30,31]},\"id\":\"44866\",\"type\":\"DaysTicker\"},{\"attributes\":{\"format\":\"0,0.0[00000]\"},\"id\":\"45083\",\"type\":\"NumberFormatter\"},{\"attributes\":{},\"id\":\"45134\",\"type\":\"NumberEditor\"},{\"attributes\":{\"end\":12,\"margin\":[5,10,5,10],\"start\":1,\"title\":\"Months\",\"value\":[2,3]},\"id\":\"44802\",\"type\":\"RangeSlider\"},{\"attributes\":{},\"id\":\"44816\",\"type\":\"LinearScale\"},{\"attributes\":{\"source\":{\"id\":\"44845\"}},\"id\":\"44852\",\"type\":\"CDSView\"},{\"attributes\":{\"days\":[1,4,7,10,13,16,19,22,25,28]},\"id\":\"44867\",\"type\":\"DaysTicker\"},{\"attributes\":{\"format\":\"%Y-%m-%d %H:%M:%S\"},\"id\":\"45078\",\"type\":\"DateFormatter\"},{\"attributes\":{\"format\":\"0,0.0[00000]\"},\"id\":\"45093\",\"type\":\"NumberFormatter\"},{\"attributes\":{\"source\":{\"id\":\"45076\"}},\"id\":\"45140\",\"type\":\"CDSView\"},{\"attributes\":{\"data\":{\"cases\":{\"__ndarray__\":\"AAAAAABeoEAAAAAAADykQAAAAAAA+KVAAAAAAABKqUAAAAAAAECuQAAAAAAAHq1AAAAAAACwqEAAAAAAALSqQAAAAAAAXqRAAAAAAAA8p0AAAAAAAHSjQAAAAAAAsJ9AAAAAAICSzUAAAAAAADywQAAAAAAA1KNAAAAAAABcn0AAAAAAAAigQAAAAAAAiJ1AAAAAAABYm0AAAAAAAKB4QAAAAAAA2ItAAAAAAADQiUAAAAAAADiEQAAAAAAAQGtAAAAAAAAYgEAAAAAAAKB5QAAAAAAAcHtAAAAAAACQdEAAAAAAAMB6QAAAAAAA8IFAAAAAAACgaUAAAAAAAMBfQAAAAAAAwF1AAAAAAABAXUAAAAAAAEBlQAAAAAAAQFlAAAAAAAAAR0AAAAAAAIBGQAAAAAAAADRAAAAAAAAAPUAAAAAAAAA4QAAAAAAAADZAAAAAAAAAM0AAAAAAAAA2QAAAAAAAADlAAAAAAACARUAAAAAAAAA3QAAAAAAAAEZAAAAAAADAWEAAAAAAAABKQAAAAAAAQFBAAAAAAABAYUAAAAAAAEBRQAAAAAAAgFNAAAAAAACAWUAAAAAAAIBXQAAAAAAAwF1AAAAAAABAXEAAAAAAAIBYQAAAAAAAAFVA\",\"dtype\":\"float64\",\"order\":\"little\",\"shape\":[60]},\"countriesAndTerritories\":[\"China\",\"China\",\"China\",\"China\",\"China\",\"China\",\"China\",\"China\",\"China\",\"China\",\"China\",\"China\",\"China\",\"China\",\"China\",\"China\",\"China\",\"China\",\"China\",\"China\",\"China\",\"China\",\"China\",\"China\",\"China\",\"China\",\"China\",\"China\",\"China\",\"China\",\"China\",\"China\",\"China\",\"China\",\"China\",\"China\",\"China\",\"China\",\"China\",\"China\",\"China\",\"China\",\"China\",\"China\",\"China\",\"China\",\"China\",\"China\",\"China\",\"China\",\"China\",\"China\",\"China\",\"China\",\"China\",\"China\",\"China\",\"China\",\"China\",\"China\"],\"dateRep\":{\"__ndarray__\":\"AADAwOD/dkIAAIAmMwB3QgAAQIyFAHdCAAAA8tcAd0IAAMBXKgF3QgAAgL18AXdCAABAI88Bd0IAAACJIQJ3QgAAwO5zAndCAACAVMYCd0IAAEC6GAN3QgAAACBrA3dCAADAhb0Dd0IAAIDrDwR3QgAAQFFiBHdCAAAAt7QEd0IAAMAcBwV3QgAAgIJZBXdCAABA6KsFd0IAAABO/gV3QgAAwLNQBndCAACAGaMGd0IAAEB/9QZ3QgAAAOVHB3dCAADASpoHd0IAAICw7Ad3QgAAQBY/CHdCAAAAfJEId0IAAMDh4wh3QgAAgEc2CXdCAABArYgJd0IAAAAT2wl3QgAAwHgtCndCAACA3n8Kd0IAAEBE0gp3QgAAAKokC3dCAADAD3cLd0IAAIB1yQt3QgAAQNsbDHdCAAAAQW4Md0IAAMCmwAx3QgAAgAwTDXdCAABAcmUNd0IAAADYtw13QgAAwD0KDndCAACAo1wOd0IAAEAJrw53QgAAAG8BD3dCAADA1FMPd0IAAIA6pg93QgAAQKD4D3dCAAAABksQd0IAAMBrnRB3QgAAgNHvEHdCAABAN0IRd0IAAACdlBF3QgAAwALnEXdCAACAaDkSd0IAAEDOixJ3QgAAADTeEndC\",\"dtype\":\"float64\",\"order\":\"little\",\"shape\":[60]}},\"selected\":{\"id\":\"44846\"},\"selection_policy\":{\"id\":\"44860\"}},\"id\":\"44845\",\"type\":\"ColumnDataSource\"},{\"attributes\":{},\"id\":\"44840\",\"type\":\"DatetimeTickFormatter\"},{\"attributes\":{\"format\":\"0,0.0[00000]\"},\"id\":\"45088\",\"type\":\"NumberFormatter\"},{\"attributes\":{},\"id\":\"45099\",\"type\":\"NumberEditor\"},{\"attributes\":{\"coordinates\":null,\"group\":null,\"items\":[]},\"id\":\"44875\",\"type\":\"Legend\"},{\"attributes\":{\"margin\":[5,10,5,10],\"name\":\"\",\"text\":\"<b>Setting</b>\"},\"id\":\"44799\",\"type\":\"Div\"},{\"attributes\":{},\"id\":\"45119\",\"type\":\"StringEditor\"},{\"attributes\":{\"editor\":{\"id\":\"45104\"},\"field\":\"deaths\",\"formatter\":{\"id\":\"45103\"},\"title\":\"deaths\"},\"id\":\"45105\",\"type\":\"TableColumn\"},{\"attributes\":{\"days\":[1,8,15,22]},\"id\":\"44868\",\"type\":\"DaysTicker\"},{\"attributes\":{\"editor\":{\"id\":\"45079\"},\"field\":\"dateRep\",\"formatter\":{\"id\":\"45078\"},\"title\":\"dateRep\"},\"id\":\"45080\",\"type\":\"TableColumn\"},{\"attributes\":{},\"id\":\"44830\",\"type\":\"ResetTool\"},{\"attributes\":{\"line_alpha\":0.2,\"line_color\":\"#30a2da\",\"line_width\":2,\"x\":{\"field\":\"dateRep\"},\"y\":{\"field\":\"cases\"}},\"id\":\"44850\",\"type\":\"Line\"},{\"attributes\":{\"children\":[{\"id\":\"44798\"},{\"id\":\"44804\"}],\"margin\":[0,0,0,0],\"name\":\"Row73298\"},\"id\":\"44797\",\"type\":\"Row\"},{\"attributes\":{\"callback\":null,\"formatters\":{\"@{dateRep}\":\"datetime\"},\"renderers\":[{\"id\":\"44851\"}],\"tags\":[\"hv_created\"],\"tooltips\":[[\"countriesAndTerritories\",\"@{countriesAndTerritories}\"],[\"dateRep\",\"@{dateRep}{%F %T}\"],[\"cases\",\"@{cases}\"]]},\"id\":\"44808\",\"type\":\"HoverTool\"},{\"attributes\":{\"overlay\":{\"id\":\"44831\"}},\"id\":\"44829\",\"type\":\"BoxZoomTool\"},{\"attributes\":{},\"id\":\"45089\",\"type\":\"NumberEditor\"},{\"attributes\":{\"mantissas\":[1,2,5],\"max_interval\":500.0,\"num_minor_ticks\":0},\"id\":\"44863\",\"type\":\"AdaptiveTicker\"},{\"attributes\":{\"axis\":{\"id\":\"44822\"},\"coordinates\":null,\"dimension\":1,\"grid_line_color\":null,\"group\":null,\"ticker\":null},\"id\":\"44825\",\"type\":\"Grid\"},{\"attributes\":{\"format\":\"0,0.0[00000]\"},\"id\":\"45133\",\"type\":\"NumberFormatter\"},{\"attributes\":{\"editor\":{\"id\":\"45099\"},\"field\":\"cases\",\"formatter\":{\"id\":\"45098\"},\"title\":\"cases\"},\"id\":\"45100\",\"type\":\"TableColumn\"},{\"attributes\":{},\"id\":\"45113\",\"type\":\"StringFormatter\"},{\"attributes\":{},\"id\":\"45109\",\"type\":\"StringEditor\"},{\"attributes\":{},\"id\":\"44828\",\"type\":\"WheelZoomTool\"},{\"attributes\":{},\"id\":\"45129\",\"type\":\"StringEditor\"},{\"attributes\":{\"line_color\":\"#30a2da\",\"line_width\":2,\"x\":{\"field\":\"dateRep\"},\"y\":{\"field\":\"cases\"}},\"id\":\"44877\",\"type\":\"Line\"},{\"attributes\":{\"editor\":{\"id\":\"45114\"},\"field\":\"geoId\",\"formatter\":{\"id\":\"45113\"},\"title\":\"geoId\"},\"id\":\"45115\",\"type\":\"TableColumn\"},{\"attributes\":{},\"id\":\"44860\",\"type\":\"UnionRenderers\"},{\"attributes\":{},\"id\":\"44843\",\"type\":\"BasicTickFormatter\"},{\"attributes\":{},\"id\":\"45084\",\"type\":\"NumberEditor\"},{\"attributes\":{\"client_comm_id\":\"66bb3c3cef0540de90e87d01655c1fc5\",\"comm_id\":\"7f393d4f3da3496da34cd44fcd35c6e4\",\"plot_id\":\"44797\"},\"id\":\"45217\",\"type\":\"panel.models.comm_manager.CommManager\"},{\"attributes\":{\"days\":[1,15]},\"id\":\"44869\",\"type\":\"DaysTicker\"},{\"attributes\":{\"tools\":[{\"id\":\"44808\"},{\"id\":\"44826\"},{\"id\":\"44827\"},{\"id\":\"44828\"},{\"id\":\"44829\"},{\"id\":\"44830\"}]},\"id\":\"44832\",\"type\":\"Toolbar\"},{\"attributes\":{\"line_alpha\":0.1,\"line_color\":\"#30a2da\",\"line_width\":2,\"x\":{\"field\":\"dateRep\"},\"y\":{\"field\":\"cases\"}},\"id\":\"44849\",\"type\":\"Line\"},{\"attributes\":{\"base\":60,\"mantissas\":[1,2,5,10,15,20,30],\"max_interval\":1800000.0,\"min_interval\":1000.0,\"num_minor_ticks\":0},\"id\":\"44864\",\"type\":\"AdaptiveTicker\"},{\"attributes\":{\"editor\":{\"id\":\"45109\"},\"field\":\"countriesAndTerritories\",\"formatter\":{\"id\":\"45108\"},\"title\":\"countriesAndTerritories\"},\"id\":\"45110\",\"type\":\"TableColumn\"},{\"attributes\":{\"children\":[{\"id\":\"44805\"}],\"margin\":[0,0,0,0],\"name\":\"Row73114\"},\"id\":\"44804\",\"type\":\"Row\"},{\"attributes\":{\"editor\":{\"id\":\"45119\"},\"field\":\"countryterritoryCode\",\"formatter\":{\"id\":\"45118\"},\"title\":\"countryterritoryCode\"},\"id\":\"45120\",\"type\":\"TableColumn\"},{\"attributes\":{},\"id\":\"44826\",\"type\":\"SaveTool\"},{\"attributes\":{},\"id\":\"45118\",\"type\":\"StringFormatter\"},{\"attributes\":{},\"id\":\"45108\",\"type\":\"StringFormatter\"},{\"attributes\":{\"base\":24,\"mantissas\":[1,2,4,6,8,12],\"max_interval\":43200000.0,\"min_interval\":3600000.0,\"num_minor_ticks\":0},\"id\":\"44865\",\"type\":\"AdaptiveTicker\"},{\"attributes\":{\"months\":[0,2,4,6,8,10]},\"id\":\"44871\",\"type\":\"MonthsTicker\"},{\"attributes\":{\"format\":\"0,0.0[00000]\"},\"id\":\"45103\",\"type\":\"NumberFormatter\"},{\"attributes\":{\"axis\":{\"id\":\"44818\"},\"coordinates\":null,\"grid_line_color\":null,\"group\":null,\"ticker\":null},\"id\":\"44821\",\"type\":\"Grid\"},{\"attributes\":{\"months\":[0,6]},\"id\":\"44873\",\"type\":\"MonthsTicker\"},{\"attributes\":{\"columns\":[{\"id\":\"45080\"},{\"id\":\"45085\"},{\"id\":\"45090\"},{\"id\":\"45095\"},{\"id\":\"45100\"},{\"id\":\"45105\"},{\"id\":\"45110\"},{\"id\":\"45115\"},{\"id\":\"45120\"},{\"id\":\"45125\"},{\"id\":\"45130\"},{\"id\":\"45135\"}],\"height\":300,\"reorderable\":false,\"source\":{\"id\":\"45076\"},\"view\":{\"id\":\"45140\"},\"width\":700},\"id\":\"45138\",\"type\":\"DataTable\"},{\"attributes\":{},\"id\":\"44827\",\"type\":\"PanTool\"},{\"attributes\":{\"end\":16653.2,\"reset_end\":16653.2,\"reset_start\":-1493.2,\"start\":-1493.2,\"tags\":[[[\"cases\",\"cases\",null]]]},\"id\":\"44807\",\"type\":\"Range1d\"},{\"attributes\":{\"data\":{\"Cumulative_number_for_14_days_of_COVID_hyphen_minus_19_cases_per_100000\":{\"__ndarray__\":\"JMDh7HMItT+mT0BNDE20P3tr3HJg/7I/OcmgJG5fsT/Vj/I4sSyvPxmfNJp9mqw/Ju6IdXDRqT82Yl4ufxGoP76aTZGNUaY/e2vccmD/oj+yFyN1r1GiP6KjTbygEaQ/O4Eb76+apj+RSeOjBzapP7N2PrCho6w/ZyO+sIijrz/aYNmzhAizPw5KHKKf47w/C6bMk4wYwj+66/hxLNbEP65rrKufisg/WRmNfF7xyz8dAPWPUy7QP3vZl+gD9NA/t6zK18ii0z9iQP7rP9/WP88gcOokF9o/ohxY0KxT2z+EtErZt03hP1eZxoIEPeU/9XhKnE9c6T/IeSAuEI/sP3JOLr5PovA/1X/vmZnn9D/LBiUO0acCQAmCjQzujgNAQ/r1XAmpBEBLOHhPszIGQIua+R+qSgdAckPfH+e8CEC4UUsQAQEKQEjcpQUW3QtAEVNkpTAMDUDWhScNmMwNQM5Mk8YmOQ5AV1CDL22MDkAQ1CEeJk0OQHUjh+NUFg1ARtsI9iWcBUClPW9030sFQFIrCsOZ4gRAJptASzaqA0DW9l2u0ZQCQNHaAnyW6wBApT0Uu2ya/j9Z3pcrao36P6I3if9DY/Y/bftgEarx8j+6cWJ6iKfvP3tM5lBtLeo/\",\"dtype\":\"float64\",\"order\":\"little\",\"shape\":[60]},\"cases\":{\"__ndarray__\":\"AAAAAAAAVUAAAAAAAIBYQAAAAAAAQFxAAAAAAADAXUAAAAAAAIBXQAAAAAAAgFlAAAAAAACAU0AAAAAAAEBRQAAAAAAAQGFAAAAAAABAUEAAAAAAAABKQAAAAAAAwFhAAAAAAAAARkAAAAAAAAA3QAAAAAAAgEVAAAAAAAAAOUAAAAAAAAA2QAAAAAAAADNAAAAAAAAANkAAAAAAAAA4QAAAAAAAAD1AAAAAAAAANEAAAAAAAIBGQAAAAAAAAEdAAAAAAABAWUAAAAAAAEBlQAAAAAAAQF1AAAAAAADAXUAAAAAAAMBfQAAAAAAAoGlAAAAAAADwgUAAAAAAAMB6QAAAAAAAkHRAAAAAAABwe0AAAAAAAKB5QAAAAAAAGIBAAAAAAABAa0AAAAAAADiEQAAAAAAA0IlAAAAAAADYi0AAAAAAAKB4QAAAAAAAWJtAAAAAAACInUAAAAAAAAigQAAAAAAAXJ9AAAAAAADUo0AAAAAAADywQAAAAACAks1AAAAAAACwn0AAAAAAAHSjQAAAAAAAPKdAAAAAAABepEAAAAAAALSqQAAAAAAAsKhAAAAAAAAerUAAAAAAAECuQAAAAAAASqlAAAAAAAD4pUAAAAAAADykQAAAAAAAXqBA\",\"dtype\":\"float64\",\"order\":\"little\",\"shape\":[60]},\"continentExp\":[\"Asia\",\"Asia\",\"Asia\",\"Asia\",\"Asia\",\"Asia\",\"Asia\",\"Asia\",\"Asia\",\"Asia\",\"Asia\",\"Asia\",\"Asia\",\"Asia\",\"Asia\",\"Asia\",\"Asia\",\"Asia\",\"Asia\",\"Asia\",\"Asia\",\"Asia\",\"Asia\",\"Asia\",\"Asia\",\"Asia\",\"Asia\",\"Asia\",\"Asia\",\"Asia\",\"Asia\",\"Asia\",\"Asia\",\"Asia\",\"Asia\",\"Asia\",\"Asia\",\"Asia\",\"Asia\",\"Asia\",\"Asia\",\"Asia\",\"Asia\",\"Asia\",\"Asia\",\"Asia\",\"Asia\",\"Asia\",\"Asia\",\"Asia\",\"Asia\",\"Asia\",\"Asia\",\"Asia\",\"Asia\",\"Asia\",\"Asia\",\"Asia\",\"Asia\",\"Asia\"],\"countriesAndTerritories\":[\"China\",\"China\",\"China\",\"China\",\"China\",\"China\",\"China\",\"China\",\"China\",\"China\",\"China\",\"China\",\"China\",\"China\",\"China\",\"China\",\"China\",\"China\",\"China\",\"China\",\"China\",\"China\",\"China\",\"China\",\"China\",\"China\",\"China\",\"China\",\"China\",\"China\",\"China\",\"China\",\"China\",\"China\",\"China\",\"China\",\"China\",\"China\",\"China\",\"China\",\"China\",\"China\",\"China\",\"China\",\"China\",\"China\",\"China\",\"China\",\"China\",\"China\",\"China\",\"China\",\"China\",\"China\",\"China\",\"China\",\"China\",\"China\",\"China\",\"China\"],\"countryterritoryCode\":[\"CHN\",\"CHN\",\"CHN\",\"CHN\",\"CHN\",\"CHN\",\"CHN\",\"CHN\",\"CHN\",\"CHN\",\"CHN\",\"CHN\",\"CHN\",\"CHN\",\"CHN\",\"CHN\",\"CHN\",\"CHN\",\"CHN\",\"CHN\",\"CHN\",\"CHN\",\"CHN\",\"CHN\",\"CHN\",\"CHN\",\"CHN\",\"CHN\",\"CHN\",\"CHN\",\"CHN\",\"CHN\",\"CHN\",\"CHN\",\"CHN\",\"CHN\",\"CHN\",\"CHN\",\"CHN\",\"CHN\",\"CHN\",\"CHN\",\"CHN\",\"CHN\",\"CHN\",\"CHN\",\"CHN\",\"CHN\",\"CHN\",\"CHN\",\"CHN\",\"CHN\",\"CHN\",\"CHN\",\"CHN\",\"CHN\",\"CHN\",\"CHN\",\"CHN\",\"CHN\"],\"dateRep\":{\"__ndarray__\":\"AAAANN4Sd0IAAEDOixJ3QgAAgGg5EndCAADAAucRd0IAAACdlBF3QgAAQDdCEXdCAACA0e8Qd0IAAMBrnRB3QgAAAAZLEHdCAABAoPgPd0IAAIA6pg93QgAAwNRTD3dCAAAAbwEPd0IAAEAJrw53QgAAgKNcDndCAADAPQoOd0IAAADYtw13QgAAQHJlDXdCAACADBMNd0IAAMCmwAx3QgAAAEFuDHdCAABA2xsMd0IAAIB1yQt3QgAAwA93C3dCAAAAqiQLd0IAAEBE0gp3QgAAgN5/CndCAADAeC0Kd0IAAAAT2wl3QgAAQK2ICXdCAACARzYJd0IAAMDh4wh3QgAAAHyRCHdCAABAFj8Id0IAAICw7Ad3QgAAwEqaB3dCAAAA5UcHd0IAAEB/9QZ3QgAAgBmjBndCAADAs1AGd0IAAABO/gV3QgAAQOirBXdCAACAglkFd0IAAMAcBwV3QgAAALe0BHdCAABAUWIEd0IAAIDrDwR3QgAAwIW9A3dCAAAAIGsDd0IAAEC6GAN3QgAAgFTGAndCAADA7nMCd0IAAACJIQJ3QgAAQCPPAXdCAACAvXwBd0IAAMBXKgF3QgAAAPLXAHdCAABAjIUAd0IAAIAmMwB3QgAAwMDg/3ZC\",\"dtype\":\"float64\",\"order\":\"little\",\"shape\":[60]},\"day\":{\"__ndarray__\":\"AAAAAAAAP0AAAAAAAAA+QAAAAAAAAD1AAAAAAAAAPEAAAAAAAAA7QAAAAAAAADpAAAAAAAAAOUAAAAAAAAA4QAAAAAAAADdAAAAAAAAANkAAAAAAAAA1QAAAAAAAADRAAAAAAAAAM0AAAAAAAAAyQAAAAAAAADFAAAAAAAAAMEAAAAAAAAAuQAAAAAAAACxAAAAAAAAAKkAAAAAAAAAoQAAAAAAAACZAAAAAAAAAJEAAAAAAAAAiQAAAAAAAACBAAAAAAAAAHEAAAAAAAAAYQAAAAAAAABRAAAAAAAAAEEAAAAAAAAAIQAAAAAAAAABAAAAAAAAA8D8AAAAAAAA9QAAAAAAAADxAAAAAAAAAO0AAAAAAAAA6QAAAAAAAADlAAAAAAAAAOEAAAAAAAAA3QAAAAAAAADZAAAAAAAAANUAAAAAAAAA0QAAAAAAAADNAAAAAAAAAMkAAAAAAAAAxQAAAAAAAADBAAAAAAAAALkAAAAAAAAAsQAAAAAAAACpAAAAAAAAAKEAAAAAAAAAmQAAAAAAAACRAAAAAAAAAIkAAAAAAAAAgQAAAAAAAABxAAAAAAAAAGEAAAAAAAAAUQAAAAAAAABBAAAAAAAAACEAAAAAAAAAAQAAAAAAAAPA/\",\"dtype\":\"float64\",\"order\":\"little\",\"shape\":[60]},\"deaths\":{\"__ndarray__\":\"AAAAAAAACEAAAAAAAAAAQAAAAAAAABRAAAAAAAAACEAAAAAAAAAUQAAAAAAAABhAAAAAAAAAEEAAAAAAAAAcQAAAAAAAACJAAAAAAAAAGEAAAAAAAAAYQAAAAAAAABBAAAAAAAAAIEAAAAAAAAAwQAAAAAAAACJAAAAAAAAAKkAAAAAAAAAiQAAAAAAAAC5AAAAAAAAAHEAAAAAAAAAmQAAAAAAAADZAAAAAAAAAMUAAAAAAAAA3QAAAAAAAADtAAAAAAAAAPEAAAAAAAAA+QAAAAAAAAD9AAAAAAACAQkAAAAAAAABAQAAAAAAAAEVAAAAAAACAQUAAAAAAAIBHQAAAAAAAAEZAAAAAAAAAPUAAAAAAAABKQAAAAAAAgFFAAAAAAADAYkAAAAAAAIBYQAAAAAAAQFtAAAAAAACAXUAAAAAAAABcQAAAAAAAYGFAAAAAAACAWEAAAAAAAEBaQAAAAAAAwGFAAAAAAADgYUAAAAAAAAAqQAAAAAAAwG9AAAAAAABAWEAAAAAAAABbQAAAAAAAQFhAAAAAAABAVkAAAAAAAIBVQAAAAAAAQFJAAAAAAAAAUkAAAAAAAIBQQAAAAAAAQFBAAAAAAACATEAAAAAAAIBGQAAAAAAAAEdA\",\"dtype\":\"float64\",\"order\":\"little\",\"shape\":[60]},\"geoId\":[\"CN\",\"CN\",\"CN\",\"CN\",\"CN\",\"CN\",\"CN\",\"CN\",\"CN\",\"CN\",\"CN\",\"CN\",\"CN\",\"CN\",\"CN\",\"CN\",\"CN\",\"CN\",\"CN\",\"CN\",\"CN\",\"CN\",\"CN\",\"CN\",\"CN\",\"CN\",\"CN\",\"CN\",\"CN\",\"CN\",\"CN\",\"CN\",\"CN\",\"CN\",\"CN\",\"CN\",\"CN\",\"CN\",\"CN\",\"CN\",\"CN\",\"CN\",\"CN\",\"CN\",\"CN\",\"CN\",\"CN\",\"CN\",\"CN\",\"CN\",\"CN\",\"CN\",\"CN\",\"CN\",\"CN\",\"CN\",\"CN\",\"CN\",\"CN\",\"CN\"],\"month\":{\"__ndarray__\":\"AAAAAAAACEAAAAAAAAAIQAAAAAAAAAhAAAAAAAAACEAAAAAAAAAIQAAAAAAAAAhAAAAAAAAACEAAAAAAAAAIQAAAAAAAAAhAAAAAAAAACEAAAAAAAAAIQAAAAAAAAAhAAAAAAAAACEAAAAAAAAAIQAAAAAAAAAhAAAAAAAAACEAAAAAAAAAIQAAAAAAAAAhAAAAAAAAACEAAAAAAAAAIQAAAAAAAAAhAAAAAAAAACEAAAAAAAAAIQAAAAAAAAAhAAAAAAAAACEAAAAAAAAAIQAAAAAAAAAhAAAAAAAAACEAAAAAAAAAIQAAAAAAAAAhAAAAAAAAACEAAAAAAAAAAQAAAAAAAAABAAAAAAAAAAEAAAAAAAAAAQAAAAAAAAABAAAAAAAAAAEAAAAAAAAAAQAAAAAAAAABAAAAAAAAAAEAAAAAAAAAAQAAAAAAAAABAAAAAAAAAAEAAAAAAAAAAQAAAAAAAAABAAAAAAAAAAEAAAAAAAAAAQAAAAAAAAABAAAAAAAAAAEAAAAAAAAAAQAAAAAAAAABAAAAAAAAAAEAAAAAAAAAAQAAAAAAAAABAAAAAAAAAAEAAAAAAAAAAQAAAAAAAAABAAAAAAAAAAEAAAAAAAAAAQAAAAAAAAABA\",\"dtype\":\"float64\",\"order\":\"little\",\"shape\":[60]},\"popData2019\":{\"__ndarray__\":\"AAAAY3Nd1UEAAABjc13VQQAAAGNzXdVBAAAAY3Nd1UEAAABjc13VQQAAAGNzXdVBAAAAY3Nd1UEAAABjc13VQQAAAGNzXdVBAAAAY3Nd1UEAAABjc13VQQAAAGNzXdVBAAAAY3Nd1UEAAABjc13VQQAAAGNzXdVBAAAAY3Nd1UEAAABjc13VQQAAAGNzXdVBAAAAY3Nd1UEAAABjc13VQQAAAGNzXdVBAAAAY3Nd1UEAAABjc13VQQAAAGNzXdVBAAAAY3Nd1UEAAABjc13VQQAAAGNzXdVBAAAAY3Nd1UEAAABjc13VQQAAAGNzXdVBAAAAY3Nd1UEAAABjc13VQQAAAGNzXdVBAAAAY3Nd1UEAAABjc13VQQAAAGNzXdVBAAAAY3Nd1UEAAABjc13VQQAAAGNzXdVBAAAAY3Nd1UEAAABjc13VQQAAAGNzXdVBAAAAY3Nd1UEAAABjc13VQQAAAGNzXdVBAAAAY3Nd1UEAAABjc13VQQAAAGNzXdVBAAAAY3Nd1UEAAABjc13VQQAAAGNzXdVBAAAAY3Nd1UEAAABjc13VQQAAAGNzXdVBAAAAY3Nd1UEAAABjc13VQQAAAGNzXdVBAAAAY3Nd1UEAAABjc13VQQAAAGNzXdVB\",\"dtype\":\"float64\",\"order\":\"little\",\"shape\":[60]},\"year\":{\"__ndarray__\":\"AAAAAACQn0AAAAAAAJCfQAAAAAAAkJ9AAAAAAACQn0AAAAAAAJCfQAAAAAAAkJ9AAAAAAACQn0AAAAAAAJCfQAAAAAAAkJ9AAAAAAACQn0AAAAAAAJCfQAAAAAAAkJ9AAAAAAACQn0AAAAAAAJCfQAAAAAAAkJ9AAAAAAACQn0AAAAAAAJCfQAAAAAAAkJ9AAAAAAACQn0AAAAAAAJCfQAAAAAAAkJ9AAAAAAACQn0AAAAAAAJCfQAAAAAAAkJ9AAAAAAACQn0AAAAAAAJCfQAAAAAAAkJ9AAAAAAACQn0AAAAAAAJCfQAAAAAAAkJ9AAAAAAACQn0AAAAAAAJCfQAAAAAAAkJ9AAAAAAACQn0AAAAAAAJCfQAAAAAAAkJ9AAAAAAACQn0AAAAAAAJCfQAAAAAAAkJ9AAAAAAACQn0AAAAAAAJCfQAAAAAAAkJ9AAAAAAACQn0AAAAAAAJCfQAAAAAAAkJ9AAAAAAACQn0AAAAAAAJCfQAAAAAAAkJ9AAAAAAACQn0AAAAAAAJCfQAAAAAAAkJ9AAAAAAACQn0AAAAAAAJCfQAAAAAAAkJ9AAAAAAACQn0AAAAAAAJCfQAAAAAAAkJ9AAAAAAACQn0AAAAAAAJCfQAAAAAAAkJ9A\",\"dtype\":\"float64\",\"order\":\"little\",\"shape\":[60]}},\"selected\":{\"id\":\"45077\"},\"selection_policy\":{\"id\":\"45141\"}},\"id\":\"45076\",\"type\":\"ColumnDataSource\"},{\"attributes\":{\"children\":[{\"id\":\"44799\"},{\"id\":\"44800\"},{\"id\":\"44801\"},{\"id\":\"44802\"},{\"id\":\"44803\"}],\"margin\":[5,5,5,5],\"min_width\":300,\"name\":\"Setting\",\"width\":300},\"id\":\"44798\",\"type\":\"Column\"},{\"attributes\":{},\"id\":\"45124\",\"type\":\"NumberEditor\"},{\"attributes\":{},\"id\":\"44874\",\"type\":\"YearsTicker\"},{\"attributes\":{\"bottom_units\":\"screen\",\"coordinates\":null,\"fill_alpha\":0.5,\"fill_color\":\"lightgrey\",\"group\":null,\"left_units\":\"screen\",\"level\":\"overlay\",\"line_alpha\":1.0,\"line_color\":\"black\",\"line_dash\":[4,4],\"line_width\":2,\"right_units\":\"screen\",\"syncable\":false,\"top_units\":\"screen\"},\"id\":\"44831\",\"type\":\"BoxAnnotation\"},{\"attributes\":{\"months\":[0,4,8]},\"id\":\"44872\",\"type\":\"MonthsTicker\"},{\"attributes\":{\"children\":[{\"id\":\"44809\"},{\"id\":\"45138\"}],\"margin\":[0,0,0,0],\"name\":\"Column73296\"},\"id\":\"44805\",\"type\":\"Column\"},{\"attributes\":{\"num_minor_ticks\":5,\"tickers\":[{\"id\":\"44863\"},{\"id\":\"44864\"},{\"id\":\"44865\"},{\"id\":\"44866\"},{\"id\":\"44867\"},{\"id\":\"44868\"},{\"id\":\"44869\"},{\"id\":\"44870\"},{\"id\":\"44871\"},{\"id\":\"44872\"},{\"id\":\"44873\"},{\"id\":\"44874\"}]},\"id\":\"44819\",\"type\":\"DatetimeTicker\"},{\"attributes\":{\"format\":\"0,0.0[00000]\"},\"id\":\"45123\",\"type\":\"NumberFormatter\"},{\"attributes\":{\"end\":1585612800000.0,\"reset_end\":1585612800000.0,\"reset_start\":1580515200000.0,\"start\":1580515200000.0,\"tags\":[[[\"dateRep\",\"dateRep\",null]]]},\"id\":\"44806\",\"type\":\"Range1d\"},{\"attributes\":{\"margin\":[5,10,5,10],\"options\":[\"Asia\",\"Europe\",\"Africa\",\"America\",\"Oceania\",\"Other\"],\"title\":\"Continents\",\"value\":[\"Asia\"]},\"id\":\"44800\",\"type\":\"MultiSelect\"},{\"attributes\":{\"margin\":[5,10,5,10],\"options\":[\"Afghanistan\",\"Bahrain\",\"Bangladesh\",\"Bhutan\",\"Brunei_Darussalam\",\"Cambodia\",\"China\",\"India\",\"Indonesia\",\"Iran\",\"Iraq\",\"Israel\",\"Japan\",\"Jordan\",\"Kazakhstan\",\"Kuwait\",\"Kyrgyzstan\",\"Laos\",\"Lebanon\",\"Malaysia\",\"Maldives\",\"Mongolia\",\"Myanmar\",\"Nepal\",\"Oman\",\"Pakistan\",\"Palestine\",\"Philippines\",\"Qatar\",\"Saudi_Arabia\",\"Singapore\",\"South_Korea\",\"Sri_Lanka\",\"Syria\",\"Taiwan\",\"Tajikistan\",\"Thailand\",\"Timor_Leste\",\"United_Arab_Emirates\",\"Uzbekistan\",\"Vietnam\",\"Yemen\"],\"title\":\"Countries\",\"value\":[\"China\"]},\"id\":\"44801\",\"type\":\"MultiSelect\"},{\"attributes\":{\"editor\":{\"id\":\"45094\"},\"field\":\"year\",\"formatter\":{\"id\":\"45093\"},\"title\":\"year\"},\"id\":\"45095\",\"type\":\"TableColumn\"},{\"attributes\":{\"axis_label\":\"Date\",\"coordinates\":null,\"formatter\":{\"id\":\"44840\"},\"group\":null,\"major_label_orientation\":1.5707963267948966,\"major_label_policy\":{\"id\":\"44841\"},\"ticker\":{\"id\":\"44819\"}},\"id\":\"44818\",\"type\":\"DatetimeAxis\"},{\"attributes\":{},\"id\":\"45114\",\"type\":\"StringEditor\"},{\"attributes\":{\"active\":0,\"labels\":[\"cases\",\"deaths\"],\"margin\":[5,10,5,10]},\"id\":\"44803\",\"type\":\"RadioButtonGroup\"},{\"attributes\":{\"coordinates\":null,\"group\":null,\"text_color\":\"black\",\"text_font_size\":\"12pt\"},\"id\":\"44810\",\"type\":\"Title\"},{\"attributes\":{\"editor\":{\"id\":\"45089\"},\"field\":\"month\",\"formatter\":{\"id\":\"45088\"},\"title\":\"month\"},\"id\":\"45090\",\"type\":\"TableColumn\"},{\"attributes\":{\"months\":[0,1,2,3,4,5,6,7,8,9,10,11]},\"id\":\"44870\",\"type\":\"MonthsTicker\"},{\"attributes\":{},\"id\":\"45094\",\"type\":\"NumberEditor\"},{\"attributes\":{},\"id\":\"45104\",\"type\":\"NumberEditor\"},{\"attributes\":{},\"id\":\"45077\",\"type\":\"Selection\"},{\"attributes\":{\"editor\":{\"id\":\"45124\"},\"field\":\"popData2019\",\"formatter\":{\"id\":\"45123\"},\"title\":\"popData2019\"},\"id\":\"45125\",\"type\":\"TableColumn\"},{\"attributes\":{\"editor\":{\"id\":\"45084\"},\"field\":\"day\",\"formatter\":{\"id\":\"45083\"},\"title\":\"day\"},\"id\":\"45085\",\"type\":\"TableColumn\"},{\"attributes\":{},\"id\":\"45079\",\"type\":\"DateEditor\"},{\"attributes\":{},\"id\":\"44814\",\"type\":\"LinearScale\"},{\"attributes\":{\"format\":\"0,0.0[00000]\"},\"id\":\"45098\",\"type\":\"NumberFormatter\"},{\"attributes\":{\"coordinates\":null,\"data_source\":{\"id\":\"44845\"},\"glyph\":{\"id\":\"44848\"},\"group\":null,\"hover_glyph\":null,\"muted_glyph\":{\"id\":\"44850\"},\"nonselection_glyph\":{\"id\":\"44849\"},\"selection_glyph\":{\"id\":\"44877\"},\"view\":{\"id\":\"44852\"}},\"id\":\"44851\",\"type\":\"GlyphRenderer\"},{\"attributes\":{},\"id\":\"44841\",\"type\":\"AllLabels\"},{\"attributes\":{\"editor\":{\"id\":\"45134\"},\"field\":\"Cumulative_number_for_14_days_of_COVID_hyphen_minus_19_cases_per_100000\",\"formatter\":{\"id\":\"45133\"},\"title\":\"Cumulative_number_for_14_days_of_COVID-19_cases_per_100000\"},\"id\":\"45135\",\"type\":\"TableColumn\"},{\"attributes\":{\"line_color\":\"#30a2da\",\"line_width\":2,\"x\":{\"field\":\"dateRep\"},\"y\":{\"field\":\"cases\"}},\"id\":\"44848\",\"type\":\"Line\"},{\"attributes\":{},\"id\":\"44844\",\"type\":\"AllLabels\"},{\"attributes\":{\"below\":[{\"id\":\"44818\"}],\"center\":[{\"id\":\"44821\"},{\"id\":\"44825\"},{\"id\":\"44875\"}],\"height\":300,\"left\":[{\"id\":\"44822\"}],\"margin\":[5,5,5,5],\"min_border_bottom\":10,\"min_border_left\":10,\"min_border_right\":10,\"min_border_top\":10,\"renderers\":[{\"id\":\"44851\"}],\"sizing_mode\":\"fixed\",\"title\":{\"id\":\"44810\"},\"toolbar\":{\"id\":\"44832\"},\"width\":700,\"x_range\":{\"id\":\"44806\"},\"x_scale\":{\"id\":\"44814\"},\"y_range\":{\"id\":\"44807\"},\"y_scale\":{\"id\":\"44816\"}},\"id\":\"44809\",\"subtype\":\"Figure\",\"type\":\"Plot\"},{\"attributes\":{},\"id\":\"45128\",\"type\":\"StringFormatter\"},{\"attributes\":{\"editor\":{\"id\":\"45129\"},\"field\":\"continentExp\",\"formatter\":{\"id\":\"45128\"},\"title\":\"continentExp\"},\"id\":\"45130\",\"type\":\"TableColumn\"},{\"attributes\":{},\"id\":\"44846\",\"type\":\"Selection\"},{\"attributes\":{\"axis_label\":\"cases\",\"coordinates\":null,\"formatter\":{\"id\":\"44843\"},\"group\":null,\"major_label_policy\":{\"id\":\"44844\"},\"ticker\":{\"id\":\"44823\"}},\"id\":\"44822\",\"type\":\"LinearAxis\"}],\"root_ids\":[\"44797\",\"45217\"]},\"title\":\"Bokeh Application\",\"version\":\"2.4.1\"}};\n",
       "    var render_items = [{\"docid\":\"ebe68074-1685-45ef-971d-acc96a0e430b\",\"root_ids\":[\"44797\"],\"roots\":{\"44797\":\"feeadf91-07a6-46d0-995b-d15ca8a21c06\"}}];\n",
       "    root.Bokeh.embed.embed_items_notebook(docs_json, render_items);\n",
       "  }\n",
       "  if (root.Bokeh !== undefined && root.Bokeh.Panel !== undefined) {\n",
       "    embed_document(root);\n",
       "  } else {\n",
       "    var attempts = 0;\n",
       "    var timer = setInterval(function(root) {\n",
       "      if (root.Bokeh !== undefined && root.Bokeh.Panel !== undefined) {\n",
       "        clearInterval(timer);\n",
       "        embed_document(root);\n",
       "      } else if (document.readyState == \"complete\") {\n",
       "        attempts++;\n",
       "        if (attempts > 200) {\n",
       "          clearInterval(timer);\n",
       "          console.log(\"Bokeh: ERROR: Unable to run BokehJS code because BokehJS library is missing\");\n",
       "        }\n",
       "      }\n",
       "    }, 25, root)\n",
       "  }\n",
       "})(window);</script>"
      ],
      "text/plain": [
       "Row\n",
       "    [0] Param(MyPanel, name='Setting', widgets={'dataType': <...})\n",
       "    [1] ParamMethod(method)"
      ]
     },
     "execution_count": 52,
     "metadata": {
      "application/vnd.holoviews_exec.v0+json": {
       "id": "44797"
      }
     },
     "output_type": "execute_result"
    }
   ],
   "source": [
    "import numpy as np\n",
    "import pandas as pd\n",
    "import panel as pn\n",
    "import holoviews as hv\n",
    "import hvplot.pandas\n",
    "import param\n",
    "import random\n",
    "from datetime import datetime\n",
    "pn.extension()\n",
    "# 数据处理\n",
    "data = pd.read_csv('world_wide_COVID_data_daily_data.csv')\n",
    "# 转换时间格式\n",
    "data.loc[:, 'dateRep'] = data['dateRep'].apply(lambda x: datetime.strptime(x,\"%d/%m/%Y\"))\n",
    "# 统计洲对应的国家数据\n",
    "countriesData = {}\n",
    "for row in data.itertuples():\n",
    "    if row.continentExp not in countriesData:\n",
    "        countriesData[row.continentExp] = [row.countriesAndTerritories]\n",
    "    elif row.countriesAndTerritories not in countriesData[row.continentExp]:\n",
    "        countriesData[row.continentExp].append(row.countriesAndTerritories)\n",
    "        \n",
    "     \n",
    "class MyPanel(param.Parameterized):\n",
    "    continents = param.ListSelector(default=['Asia'], objects=countriesData.keys())\n",
    "    countries = param.ListSelector(default=['China'], objects=countriesData['Asia'])\n",
    "    months = param.Range(default=(2, 3), bounds=(1, 12))\n",
    "    dataType  = param.Selector(default=\"cases\", objects=[\"cases\", \"deaths\"])\n",
    "    \n",
    "    _countries = countriesData\n",
    "    \n",
    "    @param.depends('continents', watch=True)\n",
    "    def _update_countries(self):\n",
    "        countries = []\n",
    "        for i in self.continents:\n",
    "            countries= countries + self._countries[i]\n",
    "        self.param['countries'].objects = countries\n",
    "        self.countries = [countries[0]]\n",
    "\n",
    "    @param.depends('countries','months','dataType')\n",
    "    def view(self):\n",
    "        start = self.months[0]\n",
    "        end = self.months[1]\n",
    "        graph_data = data[(data['continentExp'].isin(self.continents))&(data['countriesAndTerritories'].isin(self.countries))&(data['month']<=end)&(data['month']>=start)]\n",
    "        timeline = graph_data.hvplot(x='dateRep', y=self.dataType, xlabel='Date', rot=90, sort_date=True, by='countriesAndTerritories')\n",
    "        table = graph_data.hvplot.table(sortable=True)\n",
    "        return pn.Column(timeline,table)\n",
    "        \n",
    "viewer = MyPanel(name='Setting')\n",
    "pn.Row(pn.Param(viewer.param, widgets={'dataType': pn.widgets.RadioButtonGroup}), viewer.view)\n",
    "\n",
    "\n"
   ]
  },
  {
   "cell_type": "code",
   "execution_count": null,
   "id": "1ebcfcbd",
   "metadata": {},
   "outputs": [],
   "source": []
  },
  {
   "cell_type": "code",
   "execution_count": null,
   "id": "a6938245",
   "metadata": {},
   "outputs": [],
   "source": []
  }
 ],
 "metadata": {
  "kernelspec": {
   "display_name": "Python 3 (ipykernel)",
   "language": "python",
   "name": "python3"
  },
  "language_info": {
   "codemirror_mode": {
    "name": "ipython",
    "version": 3
   },
   "file_extension": ".py",
   "mimetype": "text/x-python",
   "name": "python",
   "nbconvert_exporter": "python",
   "pygments_lexer": "ipython3",
   "version": "3.9.7"
  }
 },
 "nbformat": 4,
 "nbformat_minor": 5
}
